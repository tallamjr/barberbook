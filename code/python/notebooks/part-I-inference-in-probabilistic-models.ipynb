{
 "cells": [
  {
   "cell_type": "markdown",
   "id": "92f02e33",
   "metadata": {},
   "source": [
    "# Chapter 1. Probabilistic Reasoning"
   ]
  },
  {
   "cell_type": "code",
   "execution_count": 1,
   "id": "1254bb18",
   "metadata": {},
   "outputs": [],
   "source": [
    "from jax import numpy as jnp"
   ]
  },
  {
   "cell_type": "code",
   "execution_count": null,
   "id": "c3348f65",
   "metadata": {},
   "outputs": [],
   "source": []
  },
  {
   "cell_type": "markdown",
   "id": "a685469e",
   "metadata": {},
   "source": [
    "## Exercises"
   ]
  },
  {
   "cell_type": "code",
   "execution_count": null,
   "id": "7c8254f7",
   "metadata": {},
   "outputs": [],
   "source": []
  }
 ],
 "metadata": {
  "kernelspec": {
   "display_name": "Python 3 (ipykernel)",
   "language": "python",
   "name": "python3"
  },
  "language_info": {
   "codemirror_mode": {
    "name": "ipython",
    "version": 3
   },
   "file_extension": ".py",
   "mimetype": "text/x-python",
   "name": "python",
   "nbconvert_exporter": "python",
   "pygments_lexer": "ipython3",
   "version": "3.8.12"
  }
 },
 "nbformat": 4,
 "nbformat_minor": 5
}
